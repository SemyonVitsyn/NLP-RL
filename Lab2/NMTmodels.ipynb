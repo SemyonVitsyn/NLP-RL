{
  "cells": [
    {
      "cell_type": "markdown",
      "metadata": {
        "id": "BmwNc0Bb5X3p"
      },
      "source": [
        "## Lab assignment 02"
      ]
    },
    {
      "cell_type": "markdown",
      "metadata": {
        "id": "Ydqh6Nv-5X3q"
      },
      "source": [
        "### Neural Machine Translation in the wild\n",
        "In the third homework you are supposed to get the best translation you can for the RU-EN translation task.\n",
        "\n",
        "Basic approach using RNNs as encoder and decoder is implemented for you.\n",
        "\n",
        "Your ultimate task is to use the techniques we've covered, e.g.\n",
        "\n",
        "* Optimization enhancements (e.g. learning rate decay)\n",
        "\n",
        "* Transformer/CNN/<whatever you select> encoder (with or without positional encoding)\n",
        "\n",
        "* attention/self-attention mechanism (**highly recommended**)\n",
        "\n",
        "* custom tokenization (BPE units, other subword approaches)\n",
        "\n",
        "to improve the translation quality.\n",
        "\n",
        "--------\n",
        "\n",
        "* __Please use at least three different approaches/models and compare them (translation quality/complexity/training and evaluation time).__\n",
        "\n",
        "* Write down some summary on your experiments and illustrate it with convergence plots/metrics and your thoughts. Just like you would approach a real problem."
      ]
    },
    {
      "cell_type": "code",
      "execution_count": 1,
      "metadata": {
        "id": "7_dvIsbm5X3r"
      },
      "outputs": [],
      "source": [
        "# You might need to install the libraries below. Do it in the desired environment\n",
        "# if you are working locally.\n",
        "\n",
        "# ! pip  install subword-nmt\n",
        "# ! pip install nltk\n",
        "# ! pip install torchtext"
      ]
    },
    {
      "cell_type": "code",
      "execution_count": null,
      "metadata": {
        "colab": {
          "base_uri": "https://localhost:8080/"
        },
        "id": "meRCsofE5X3r",
        "outputId": "a7b11a5b-d377-4c03-8951-000ed5f51f48"
      },
      "outputs": [],
      "source": [
        "# Thanks to YSDA NLP course team for the data\n",
        "# (who thanks tilda and deephack teams for the data in their turn)\n",
        "\n",
        "import os\n",
        "path_do_data = '../../datasets/Machine_translation_EN_RU/data.txt'\n",
        "if not os.path.exists(path_do_data):\n",
        "    print(\"Dataset not found locally. Downloading from github.\")\n",
        "    !wget https://raw.githubusercontent.com/neychev/made_nlp_course/master/datasets/Machine_translation_EN_RU/data.txt -nc\n",
        "    path_do_data = './data.txt'"
      ]
    },
    {
      "cell_type": "code",
      "execution_count": 2,
      "metadata": {},
      "outputs": [
        {
          "name": "stdout",
          "output_type": "stream",
          "text": [
            "Mon Mar 11 19:33:27 2024       \n",
            "+---------------------------------------------------------------------------------------+\n",
            "| NVIDIA-SMI 535.161.07             Driver Version: 535.161.07   CUDA Version: 12.2     |\n",
            "|-----------------------------------------+----------------------+----------------------+\n",
            "| GPU  Name                 Persistence-M | Bus-Id        Disp.A | Volatile Uncorr. ECC |\n",
            "| Fan  Temp   Perf          Pwr:Usage/Cap |         Memory-Usage | GPU-Util  Compute M. |\n",
            "|                                         |                      |               MIG M. |\n",
            "|=========================================+======================+======================|\n",
            "|   0  NVIDIA GeForce GTX 1650        Off | 00000000:01:00.0 Off |                  N/A |\n",
            "| N/A   55C    P8               1W /  50W |      6MiB /  4096MiB |      0%      Default |\n",
            "|                                         |                      |                  N/A |\n",
            "+-----------------------------------------+----------------------+----------------------+\n",
            "                                                                                         \n",
            "+---------------------------------------------------------------------------------------+\n",
            "| Processes:                                                                            |\n",
            "|  GPU   GI   CI        PID   Type   Process name                            GPU Memory |\n",
            "|        ID   ID                                                             Usage      |\n",
            "|=======================================================================================|\n",
            "|    0   N/A  N/A      1165      G   /usr/lib/xorg/Xorg                            4MiB |\n",
            "+---------------------------------------------------------------------------------------+\n"
          ]
        }
      ],
      "source": [
        "!nvidia-smi"
      ]
    },
    {
      "cell_type": "markdown",
      "metadata": {
        "id": "mSVNrhIm560f"
      },
      "source": [
        "#### Grading criteria\n",
        "\n",
        "**100%**\n",
        "- implementation of at least 3 model improvements over baseline\n",
        "- threshold of 27 BLEU on test corpus\n",
        "- experimental results and conclusions in human-readable format :)\n",
        "\n",
        "**70%**\n",
        "- implementation of at least 2 model improvements over baseline\n",
        "- threshold of 25 BLEU on test corpus\n",
        "- experimental results and conclusions in human-readable format :)\n",
        "\n",
        "**30%**\n",
        "- implementation of at least 1 model improvement over baseline\n",
        "- threshold of 21 BLEU on test corpus\n",
        "- experimental results and conclusions in human-readable format :)\n",
        "\n",
        "\n",
        "------\n",
        "\n",
        "#### **Note: Please do not use pretrained machine translation / BERT / LLM checkpoints. All such solutions will be graded at 30% pts.**\n"
      ]
    },
    {
      "cell_type": "markdown",
      "metadata": {
        "id": "gTCdJvym5X3r"
      },
      "source": [
        "We suggest you to stick to most recent pipelines here, e.g. by Huggingface:\n",
        "* Example notebook: [link](https://github.com/huggingface/notebooks/blob/main/examples/translation.ipynb)\n",
        "* Converting your own dataset to specific format: [link](https://discuss.huggingface.co/t/correct-way-to-create-a-dataset-from-a-csv-file/15686/15)"
      ]
    },
    {
      "cell_type": "code",
      "execution_count": 1,
      "metadata": {
        "colab": {
          "base_uri": "https://localhost:8080/"
        },
        "id": "0QEVmpe95X3s",
        "outputId": "012fcd70-9e4a-424c-e6c8-dbb55d7d2199"
      },
      "outputs": [],
      "source": [
        "import torch\n",
        "import torch.nn as nn\n",
        "import torch.optim as optim\n",
        "import numpy as np\n",
        "\n",
        "# import torchtext\n",
        "\n",
        "# import spacy\n",
        "\n",
        "import random\n",
        "import math\n",
        "import time\n",
        "from torch.utils.data import Dataset, DataLoader, random_split\n",
        "from torch.nn.utils.rnn import pad_sequence\n",
        "from tokenizers import Tokenizer, pre_tokenizers, normalizers, decoders\n",
        "from tokenizers.models import WordPiece\n",
        "from tokenizers.pre_tokenizers import Whitespace, Digits\n",
        "from tokenizers.trainers import WordPieceTrainer\n",
        "from tokenizers.normalizers import Lowercase, StripAccents\n",
        "import torchnlp.nn\n",
        "from nltk import WordPunctTokenizer\n",
        "\n",
        "import matplotlib\n",
        "matplotlib.rcParams.update({'figure.figsize': (16, 12), 'font.size': 14})\n",
        "import matplotlib.pyplot as plt\n",
        "%matplotlib inline\n",
        "\n",
        "seed = 42\n",
        "random.seed(seed)\n",
        "np.random.seed(seed)\n",
        "torch.manual_seed(seed)\n",
        "torch.cuda.manual_seed_all(seed);"
      ]
    },
    {
      "cell_type": "markdown",
      "metadata": {
        "id": "45VrR5c75X3s"
      },
      "source": [
        "### Data preprocessing\n",
        "__Here comes the preprocessing.__"
      ]
    },
    {
      "cell_type": "code",
      "execution_count": 2,
      "metadata": {
        "colab": {
          "base_uri": "https://localhost:8080/"
        },
        "id": "A-BlIYlJ5X3s",
        "outputId": "6348f933-7238-4cff-bcdd-5ce99790a77d"
      },
      "outputs": [
        {
          "name": "stdout",
          "output_type": "stream",
          "text": [
            "Number of training examples: 40000\n",
            "Number of validation examples: 2500\n",
            "Number of testing examples: 7500\n"
          ]
        }
      ],
      "source": [
        "with open(\"data.txt\") as f:\n",
        "    data = [s.rstrip().split(\"\\t\") for s in f]\n",
        "\n",
        "\n",
        "size = len(data)\n",
        "train_size = int(0.8 * size)\n",
        "test_size = int(0.15 * size)\n",
        "val_size = int(0.05 * size)\n",
        "train_data, test_data, val_data = random_split(data, [train_size, test_size, val_size])\n",
        "\n",
        "print(f\"Number of training examples: {len(train_data)}\")\n",
        "print(f\"Number of validation examples: {len(val_data)}\")\n",
        "print(f\"Number of testing examples: {len(test_data)}\")"
      ]
    },
    {
      "cell_type": "code",
      "execution_count": 3,
      "metadata": {},
      "outputs": [
        {
          "name": "stdout",
          "output_type": "stream",
          "text": [
            "\n",
            "\n",
            "\n",
            "\n",
            "\n",
            "\n",
            "Source (en) vocabulary size: 10000\n",
            "Target (ru) vocabulary size: 10000\n"
          ]
        }
      ],
      "source": [
        "specials = ['<unk>', '<sos>', '<pad>', '<eos>']\n",
        "\n",
        "src_tokenizer = Tokenizer(WordPiece(unk_token='<unk>'))\n",
        "trg_tokenizer = Tokenizer(WordPiece(unk_token='<unk>'))\n",
        "\n",
        "src_tokenizer.normalizer = normalizers.Sequence([Lowercase(), StripAccents()])\n",
        "trg_tokenizer.normalizer = normalizers.Sequence([Lowercase(), StripAccents()])\n",
        "\n",
        "src_tokenizer.pre_tokenizer = pre_tokenizers.Sequence([Whitespace(), Digits(individual_digits=True)])\n",
        "trg_tokenizer.pre_tokenizer = pre_tokenizers.Sequence([Whitespace()])\n",
        "\n",
        "src_tokenizer.decoder = decoders.WordPiece()\n",
        "trg_tokenizer.decoder = decoders.WordPiece()\n",
        "\n",
        "src_trainer = WordPieceTrainer(special_tokens=specials, vocab_size=10000)\n",
        "trg_trainer = WordPieceTrainer(special_tokens=specials, vocab_size=10000)\n",
        "\n",
        "src_tokenizer.train_from_iterator([x[0] for x in train_data], trainer=src_trainer)\n",
        "trg_tokenizer.train_from_iterator([x[1] for x in train_data], trainer=trg_trainer)\n",
        "\n",
        "\n",
        "print(f\"Source (en) vocabulary size: {src_tokenizer.get_vocab_size()}\")\n",
        "print(f\"Target (ru) vocabulary size: {trg_tokenizer.get_vocab_size()}\")"
      ]
    },
    {
      "cell_type": "code",
      "execution_count": 4,
      "metadata": {},
      "outputs": [
        {
          "name": "stdout",
          "output_type": "stream",
          "text": [
            "['cord', '##eli', '##a', 'hotel', 'is', 'situated', 'in', 'tbilisi', ',', 'a', '3', '-', 'minute', 'walk', 'away', 'from', 'saint', 'trinity', 'church', '.']\n",
            "['отель', 'cor', '##de', '##lia', 'расположен', 'в', 'тбилиси', ',', 'в', '3', 'минутах', 'ходьбы', 'от', 'свят', '##о', '-', 'тро', '##иц', '##кого', 'собора', '.']\n",
            "['at', 'tu', '##p', '##ir', '##mark', '##a', 'lodge', 'you', 'will', 'find', 'a', '2', '4', '-', 'hour', 'front', 'desk', ',', 'room', 'service', ',', 'and', 'a', 'snack', 'bar', '.']\n",
            "['в', 'числе', 'удобств', 'лоджа', 't', '##up', '##ir', '##mark', '##a', 'круглосуточная', 'стойка', 'регистрации', 'и', 'снэк', '-', 'бар', '.', 'гости', 'могут', 'воспользоваться', 'услугой', 'доставки', 'еды', 'и', 'напитков', 'в', 'номер', '.']\n"
          ]
        }
      ],
      "source": [
        "tokenized_data = [[src_tokenizer.encode(x[0]).tokens, trg_tokenizer.encode(x[1]).tokens] for x in data]\n",
        "print(tokenized_data[0][0])\n",
        "print(tokenized_data[0][1])\n",
        "print(tokenized_data[1][0])\n",
        "print(tokenized_data[1][1])"
      ]
    },
    {
      "cell_type": "markdown",
      "metadata": {
        "id": "TQMnac635X3t"
      },
      "source": [
        "Let's check the length distributions:"
      ]
    },
    {
      "cell_type": "code",
      "execution_count": 5,
      "metadata": {
        "colab": {
          "base_uri": "https://localhost:8080/",
          "height": 72
        },
        "id": "T1ObGYYM5X3t",
        "outputId": "2ee61cc0-41a4-414e-ac8e-9d7c9a4859d3"
      },
      "outputs": [
        {
          "name": "stdout",
          "output_type": "stream",
          "text": [
            "Length distribution in dataset\n"
          ]
        },
        {
          "data": {
            "image/png": "[encoded data removed]",
            "text/plain": [
              "<Figure size 1200x600 with 2 Axes>"
            ]
          },
          "metadata": {},
          "output_type": "display_data"
        }
      ],
      "source": [
        "src_length = map(len, [x[0] for x in tokenized_data])\n",
        "trg_length = map(len, [x[1] for x in tokenized_data])\n",
        "\n",
        "print('Length distribution in dataset')\n",
        "plt.figure(figsize=[12, 6])\n",
        "plt.subplot(1, 2, 1)\n",
        "plt.title(\"EN length\")\n",
        "plt.hist(list(src_length), bins=20);\n",
        "\n",
        "plt.subplot(1, 2, 2)\n",
        "plt.title(\"RU length\")\n",
        "plt.hist(list(trg_length), bins=20);"
      ]
    },
    {
      "cell_type": "code",
      "execution_count": 7,
      "metadata": {
        "colab": {
          "base_uri": "https://localhost:8080/"
        },
        "id": "vDjUY2QNikca",
        "outputId": "c3e19c23-b432-4d09-ea96-9ee714c05b15"
      },
      "outputs": [
        {
          "name": "stdout",
          "output_type": "stream",
          "text": [
            "torch.Size([46, 64]) torch.Size([43, 64])\n"
          ]
        }
      ],
      "source": [
        "src_unk_token_id, src_sos_token_id, src_pad_token_id, src_eos_token_id = [src_tokenizer.token_to_id(token) for token in ['<unk>', '<sos>', '<pad>', '<eos>']]\n",
        "trg_unk_token_id, trg_sos_token_id, trg_pad_token_id, trg_eos_token_id = [trg_tokenizer.token_to_id(token) for token in ['<unk>', '<sos>', '<pad>', '<eos>']]\n",
        "\n",
        "\n",
        "\n",
        "def collate(batch):\n",
        "    src_batch, trg_batch = [], []\n",
        "    for src, trg in batch:\n",
        "        src_processed = [src_sos_token_id] + src_tokenizer.encode(src).ids + [src_eos_token_id]\n",
        "        src_batch.append(torch.tensor(src_processed))\n",
        "\n",
        "        trg_processed = [trg_sos_token_id] + trg_tokenizer.encode(trg).ids + [trg_eos_token_id]\n",
        "        trg_batch.append(torch.tensor(trg_processed))\n",
        "\n",
        "    src_padded = pad_sequence(src_batch, padding_value=src_pad_token_id)\n",
        "    trg_padded = pad_sequence(trg_batch, padding_value=trg_pad_token_id)\n",
        "    return src_padded, trg_padded\n",
        "\n",
        "\n",
        "batch_size = 64\n",
        "train_dataloader = DataLoader(train_data, batch_size, shuffle=True, collate_fn=collate)\n",
        "val_dataloader = DataLoader(val_data, batch_size, shuffle=False, collate_fn=collate)\n",
        "test_dataloader = DataLoader(test_data, batch_size, shuffle=False, collate_fn=collate)\n",
        "\n",
        "src_batch, trg_batch = next(iter(train_dataloader))\n",
        "print(src_batch.shape, trg_batch.shape)"
      ]
    },
    {
      "cell_type": "markdown",
      "metadata": {
        "id": "sQ2_5JVX5X3t"
      },
      "source": [
        "### Model side\n",
        "__Here comes simple pipeline of NMT model learning.__"
      ]
    },
    {
      "cell_type": "code",
      "execution_count": 11,
      "metadata": {
        "colab": {
          "base_uri": "https://localhost:8080/"
        },
        "id": "UehB1dvv5X3t",
        "outputId": "2c7a2bd8-1a08-422a-a9f3-46dab9a02525"
      },
      "outputs": [
        {
          "data": {
            "text/plain": [
              "device(type='cuda')"
            ]
          },
          "execution_count": 11,
          "metadata": {},
          "output_type": "execute_result"
        }
      ],
      "source": [
        "from nltk.translate.bleu_score import corpus_bleu\n",
        "import tqdm\n",
        "\n",
        "#     \"\"\" Estimates corpora-level BLEU score of model's translations given inp and reference out \"\"\"\n",
        "#     translations, _ = model.translate_lines(inp_lines, **flags)\n",
        "#     # Note: if you experience out-of-memory error, split input lines into batches and translate separately\n",
        "#     return corpus_bleu([[ref] for ref in out_lines], translations) * 100\n",
        "\n",
        "\n",
        "device = torch.device('cuda' if torch.cuda.is_available() else 'cpu')\n",
        "device"
      ]
    },
    {
      "cell_type": "code",
      "execution_count": 8,
      "metadata": {
        "id": "eN4l2xZl5X3u"
      },
      "outputs": [],
      "source": [
        "def train(model, train_dataloader, optimizer, criterion, clip, loss_history):\n",
        "    model.train()\n",
        "\n",
        "    epoch_loss = 0\n",
        "    for src, trg in train_dataloader:\n",
        "        src, trg = src.to(device), trg.to(device)\n",
        "\n",
        "        optimizer.zero_grad()\n",
        "\n",
        "        output = model(src, trg)\n",
        "\n",
        "        #trg = [trg sent len, batch size]\n",
        "        #output = [trg sent len, batch size, output dim]\n",
        "\n",
        "        output = output[1:].view(-1, output.shape[-1])\n",
        "        trg = trg[1:].view(-1)\n",
        "\n",
        "        #trg = [(trg sent len - 1) * batch size]\n",
        "        #output = [(trg sent len - 1) * batch size, output dim]\n",
        "\n",
        "        loss = criterion(output, trg)\n",
        "\n",
        "        loss.backward()\n",
        "\n",
        "        # Let's clip the gradient\n",
        "        torch.nn.utils.clip_grad_norm_(model.parameters(), clip)\n",
        "\n",
        "        optimizer.step()\n",
        "\n",
        "        epoch_loss += loss.item()\n",
        "\n",
        "        loss_history.append(loss.cpu().data.numpy())\n",
        "\n",
        "\n",
        "    return epoch_loss / len(train_dataloader)\n",
        "\n",
        "\n",
        "\n",
        "def evaluate(model, val_dataloader, criterion):\n",
        "    model.eval()\n",
        "\n",
        "    epoch_loss = 0\n",
        "\n",
        "    with torch.no_grad():\n",
        "\n",
        "        for src, trg in val_dataloader:\n",
        "            src, trg = src.to(device), trg.to(device)\n",
        "\n",
        "            output = model(src, trg, 0) #turn off teacher forcing\n",
        "\n",
        "            #trg = [trg sent len, batch size]\n",
        "            #output = [trg sent len, batch size, output dim]\n",
        "\n",
        "            output = output[1:].view(-1, output.shape[-1])\n",
        "            trg = trg[1:].view(-1)\n",
        "\n",
        "            #trg = [(trg sent len - 1) * batch size]\n",
        "            #output = [(trg sent len - 1) * batch size, output dim]\n",
        "\n",
        "            loss = criterion(output, trg)\n",
        "\n",
        "            epoch_loss += loss.item()\n",
        "\n",
        "    return epoch_loss / len(val_dataloader)\n",
        "\n",
        "\n",
        "\n",
        "def epoch_time(start_time, end_time):\n",
        "    elapsed_time = end_time - start_time\n",
        "    elapsed_mins = int(elapsed_time / 60)\n",
        "    elapsed_secs = int(elapsed_time - (elapsed_mins * 60))\n",
        "    return elapsed_mins, elapsed_secs\n",
        "\n",
        "\n",
        "\n",
        "def count_parameters(model):\n",
        "    return sum(p.numel() for p in model.parameters() if p.requires_grad)\n",
        "\n",
        "\n",
        "\n",
        "def init_weights(m):\n",
        "    for name, param in m.named_parameters():\n",
        "        if param.dim() > 1:\n",
        "          nn.init.xavier_uniform_(param)\n",
        "        else:\n",
        "          nn.init.uniform_(param, -0.08, 0.08)\n",
        "\n",
        "\n",
        "\n",
        "def train_model(model, optimizer, criterion, CLIP, N_EPOCHS, train_dataloader, val_dataloader, file_name):\n",
        "    best_valid_loss = float('inf')\n",
        "    loss_history = []\n",
        "    train_history = []\n",
        "    valid_history = []\n",
        "    total_time = 0\n",
        "    \n",
        "\n",
        "    for epoch in range(N_EPOCHS):\n",
        "\n",
        "        start_time = time.time()\n",
        "\n",
        "        train_loss = train(model, train_dataloader, optimizer, criterion, CLIP, loss_history)\n",
        "        valid_loss = evaluate(model, val_dataloader, criterion)\n",
        "\n",
        "        end_time = time.time()\n",
        "\n",
        "        total_time = total_time + end_time - start_time\n",
        "\n",
        "        epoch_mins, epoch_secs = epoch_time(start_time, end_time)\n",
        "\n",
        "        if valid_loss < best_valid_loss:\n",
        "            best_valid_loss = valid_loss\n",
        "            torch.save(model.state_dict(), file_name)\n",
        "\n",
        "        train_history.append(train_loss)\n",
        "        valid_history.append(valid_loss)\n",
        "\n",
        "\n",
        "        print(f'Epoch: {epoch+1:02} | Time: {epoch_mins}m {epoch_secs}s')\n",
        "        print(f'\\tTrain Loss: {train_loss:.3f} | Train PPL: {math.exp(train_loss):7.3f}')\n",
        "        print(f'\\t Val. Loss: {valid_loss:.3f} |  Val. PPL: {math.exp(valid_loss):7.3f}')\n",
        "\n",
        "\n",
        "    fig, ax = plt.subplots(nrows=1, ncols=2, figsize=(12, 8))\n",
        "    ax[0].set_xlabel('Batch')\n",
        "    ax[0].set_title('Train loss')\n",
        "    ax[1].set_xlabel('Epoch')\n",
        "    ax[0].plot(loss_history, label='train loss')\n",
        "    ax[1].plot(train_history, label='general train history')\n",
        "    ax[1].plot(valid_history, label='general valid history')\n",
        "    plt.legend()\n",
        "\n",
        "    plt.show()\n",
        "\n",
        "    epoch_mins, epoch_secs = epoch_time(0, total_time)\n",
        "    print(f'Total time: {epoch_mins}m {epoch_secs}s')\n",
        "\n",
        "\n",
        "\n",
        "def merge_tokens_to_words(tokens):\n",
        "    words = []\n",
        "    for i in range(len(tokens)):\n",
        "        if tokens[i][:2] == \"##\":\n",
        "            words[-1] += tokens[i][2:]\n",
        "        else:\n",
        "            words.append(tokens[i])\n",
        "\n",
        "    return words\n",
        "\n",
        "\n",
        "\n",
        "def translation_examples(model, amount=5):\n",
        "    model.eval()\n",
        "    max_len = 50\n",
        "    with torch.no_grad():\n",
        "        for i, (src, trg) in enumerate(val_data):\n",
        "            encoded_src = [src_sos_token_id] + src_tokenizer.encode(src).ids + [src_eos_token_id]\n",
        "            encoded_src = torch.tensor(encoded_src).view(-1, 1).to(device)\n",
        "            \n",
        "            encoded_trg = [trg_sos_token_id] + trg_tokenizer.encode(trg).ids + [trg_eos_token_id]\n",
        "            encoded_trg = torch.tensor(encoded_trg).view(-1, 1).to(device)\n",
        "\n",
        "            output = model(encoded_src, encoded_trg, 0)\n",
        "            output = output.argmax(axis=2)\n",
        "\n",
        "            pred_tokens = []\n",
        "            for t in range(1, min(max_len, len(output))):\n",
        "                if output[t] == trg_eos_token_id:\n",
        "                    break\n",
        "\n",
        "                pred_tokens.append(output[t])\n",
        "\n",
        "            print(f\"src: '{src.rstrip().lower()}'\")\n",
        "            print(f\"trg: '{trg.rstrip().lower()}'\")\n",
        "            print(f\"pred: '{trg_tokenizer.decode(pred_tokens)}'\")\n",
        "            print()\n",
        "\n",
        "            if i + 1 == amount:\n",
        "                break\n",
        "\n",
        "\n",
        "\n",
        "def bleu_score(model):\n",
        "    original, generated = [], []\n",
        "    with torch.no_grad():\n",
        "        for src, trg in test_dataloader:\n",
        "            output = model(src.to(device), trg.to(device), 0)\n",
        "            output = output.cpu().numpy().argmax(axis=2)\n",
        "\n",
        "            for pred, orig in zip(output, trg):\n",
        "                generated.append(trg_tokenizer.decode([token for token in pred]))\n",
        "                original.append(trg_tokenizer.decode([token for token in orig]))\n",
        "\n",
        "\n",
        "    bleu = corpus_bleu([[text] for text in original], generated)\n",
        "    return 100 * bleu"
      ]
    },
    {
      "cell_type": "markdown",
      "metadata": {
        "id": "gB5ZmbBg3wfE"
      },
      "source": [
        "# Model quality\n",
        "\n",
        "Here comes comparing the quality of different models\n",
        "\n"
      ]
    },
    {
      "cell_type": "markdown",
      "metadata": {
        "id": "TyeY5a0M5cdh"
      },
      "source": [
        "## Baseline model"
      ]
    },
    {
      "cell_type": "code",
      "execution_count": 9,
      "metadata": {},
      "outputs": [],
      "source": [
        "class Encoder(nn.Module):\n",
        "    def __init__(self, input_dim, emb_dim, hid_dim, n_layers, dropout):\n",
        "        super().__init__()\n",
        "        \n",
        "        self.input_dim = input_dim\n",
        "        self.emb_dim = emb_dim\n",
        "        self.hid_dim = hid_dim\n",
        "        self.n_layers = n_layers\n",
        "        \n",
        "        self.embedding = nn.Embedding(\n",
        "            num_embeddings=input_dim,\n",
        "            embedding_dim=emb_dim\n",
        "        )\n",
        "        \n",
        "        self.rnn = nn.LSTM(\n",
        "            input_size=emb_dim,\n",
        "            hidden_size=hid_dim,\n",
        "            num_layers=n_layers,\n",
        "            dropout=dropout\n",
        "        )\n",
        "        \n",
        "        self.dropout = nn.Dropout(p=dropout)\n",
        "        \n",
        "    def forward(self, src):        \n",
        "        embedded = self.dropout(self.embedding(src))        \n",
        "        output, (hidden, cell) = self.rnn(embedded)\n",
        "        return hidden, cell\n",
        "    \n",
        "\n",
        "class Decoder(nn.Module):\n",
        "    def __init__(self, output_dim, emb_dim, hid_dim, n_layers, dropout):\n",
        "        super().__init__()\n",
        "\n",
        "        self.emb_dim = emb_dim\n",
        "        self.hid_dim = hid_dim\n",
        "        self.output_dim = output_dim\n",
        "        self.n_layers = n_layers\n",
        "        self.dropout = dropout\n",
        "        \n",
        "        self.embedding = nn.Embedding(\n",
        "            num_embeddings=output_dim,\n",
        "            embedding_dim=emb_dim\n",
        "        )\n",
        "        \n",
        "        self.rnn = nn.LSTM(\n",
        "            input_size=emb_dim,\n",
        "            hidden_size=hid_dim,\n",
        "            num_layers=n_layers,\n",
        "            dropout=dropout\n",
        "        )\n",
        "        \n",
        "        self.out = nn.Linear(\n",
        "            in_features=hid_dim,\n",
        "            out_features=output_dim\n",
        "        )\n",
        "        \n",
        "        self.dropout = nn.Dropout(p=dropout)\n",
        "        \n",
        "    def forward(self, input, hidden, cell):\n",
        "        input = input.unsqueeze(0)\n",
        "        embedded = self.dropout(self.embedding(input))\n",
        "        output, (hidden, cell) = self.rnn(embedded, (hidden, cell))\n",
        "        prediction = self.out(output.squeeze(0))\n",
        "        return prediction, hidden, cell\n",
        "\n",
        "\n",
        "class Seq2Seq(nn.Module):\n",
        "    def __init__(self, encoder, decoder, device):\n",
        "        super().__init__()\n",
        "        \n",
        "        self.encoder = encoder\n",
        "        self.decoder = decoder\n",
        "        self.device = device\n",
        "        \n",
        "        assert encoder.hid_dim == decoder.hid_dim, \\\n",
        "            \"Hidden dimensions of encoder and decoder must be equal!\"\n",
        "        assert encoder.n_layers == decoder.n_layers, \\\n",
        "            \"Encoder and decoder must have equal number of layers!\"\n",
        "        \n",
        "    def forward(self, src, trg, teacher_forcing_ratio = 0.5):\n",
        "        batch_size = trg.shape[1]\n",
        "        max_len = trg.shape[0]\n",
        "        trg_vocab_size = self.decoder.output_dim\n",
        "        \n",
        "        outputs = torch.zeros(max_len, batch_size, trg_vocab_size).to(self.device)\n",
        "        \n",
        "        hidden, cell = self.encoder(src)\n",
        "        \n",
        "        input = trg[0,:]\n",
        "        for t in range(1, max_len):\n",
        "            output, hidden, cell = self.decoder(input, hidden, cell)\n",
        "            outputs[t] = output\n",
        "            teacher_force = random.random() < teacher_forcing_ratio\n",
        "            top1 = output.max(1)[1]\n",
        "            input = (trg[t] if teacher_force else top1)\n",
        "        \n",
        "        return outputs"
      ]
    },
    {
      "cell_type": "code",
      "execution_count": 12,
      "metadata": {
        "colab": {
          "base_uri": "https://localhost:8080/"
        },
        "id": "jWDcOIoC4gb1",
        "outputId": "3dae567d-cffb-4c72-92fb-217be8401b39"
      },
      "outputs": [
        {
          "name": "stdout",
          "output_type": "stream",
          "text": [
            "The model has 17,606,416 trainable parameters\n"
          ]
        }
      ],
      "source": [
        "INPUT_DIM = src_tokenizer.get_vocab_size()\n",
        "OUTPUT_DIM = trg_tokenizer.get_vocab_size()\n",
        "ENC_EMB_DIM = 256\n",
        "DEC_EMB_DIM = 256\n",
        "HID_DIM = 512\n",
        "N_LAYERS = 2\n",
        "ENC_DROPOUT = 0.5\n",
        "DEC_DROPOUT = 0.5\n",
        "\n",
        "enc = Encoder(INPUT_DIM, ENC_EMB_DIM, HID_DIM, N_LAYERS, ENC_DROPOUT)\n",
        "dec = Decoder(OUTPUT_DIM, DEC_EMB_DIM, HID_DIM, N_LAYERS, DEC_DROPOUT)\n",
        "\n",
        "\n",
        "model = Seq2Seq(enc, dec, device).to(device)\n",
        "\n",
        "model.apply(init_weights)\n",
        "\n",
        "\n",
        "print(f'The model has {count_parameters(model):,} trainable parameters')"
      ]
    },
    {
      "cell_type": "code",
      "execution_count": 13,
      "metadata": {
        "colab": {
          "base_uri": "https://localhost:8080/"
        },
        "id": "LF0FgcrA7sdf",
        "outputId": "73e77a10-d210-4330-dd97-58e26653be40"
      },
      "outputs": [
        {
          "name": "stdout",
          "output_type": "stream",
          "text": [
            "Epoch: 01 | Time: 4m 7s\n",
            "\tTrain Loss: 5.032 | Train PPL: 153.279\n",
            "\t Val. Loss: 6.212 |  Val. PPL: 498.845\n",
            "Epoch: 02 | Time: 4m 7s\n",
            "\tTrain Loss: 4.534 | Train PPL:  93.142\n",
            "\t Val. Loss: 6.015 |  Val. PPL: 409.658\n",
            "Epoch: 03 | Time: 4m 4s\n",
            "\tTrain Loss: 4.251 | Train PPL:  70.149\n",
            "\t Val. Loss: 5.907 |  Val. PPL: 367.491\n",
            "Epoch: 04 | Time: 4m 6s\n",
            "\tTrain Loss: 4.063 | Train PPL:  58.160\n",
            "\t Val. Loss: 5.902 |  Val. PPL: 365.872\n",
            "Epoch: 05 | Time: 4m 5s\n",
            "\tTrain Loss: 3.932 | Train PPL:  51.027\n",
            "\t Val. Loss: 5.875 |  Val. PPL: 356.158\n",
            "Epoch: 06 | Time: 4m 6s\n",
            "\tTrain Loss: 3.786 | Train PPL:  44.068\n",
            "\t Val. Loss: 5.864 |  Val. PPL: 352.167\n",
            "Epoch: 07 | Time: 4m 6s\n",
            "\tTrain Loss: 3.677 | Train PPL:  39.538\n",
            "\t Val. Loss: 5.828 |  Val. PPL: 339.784\n",
            "Epoch: 08 | Time: 4m 7s\n",
            "\tTrain Loss: 3.574 | Train PPL:  35.647\n",
            "\t Val. Loss: 5.757 |  Val. PPL: 316.421\n",
            "Epoch: 09 | Time: 4m 5s\n",
            "\tTrain Loss: 3.503 | Train PPL:  33.221\n",
            "\t Val. Loss: 5.870 |  Val. PPL: 354.400\n",
            "Epoch: 10 | Time: 4m 7s\n",
            "\tTrain Loss: 3.422 | Train PPL:  30.634\n",
            "\t Val. Loss: 5.799 |  Val. PPL: 329.863\n"
          ]
        },
        {
          "data": {
            "image/png": "[encoded data removed]",
            "text/plain": [
              "<Figure size 1200x800 with 2 Axes>"
            ]
          },
          "metadata": {},
          "output_type": "display_data"
        },
        {
          "name": "stdout",
          "output_type": "stream",
          "text": [
            "Total time: 41m 5s\n"
          ]
        }
      ],
      "source": [
        "train_model(model,\n",
        "            optimizer=optim.Adam(model.parameters()),\n",
        "            criterion=nn.CrossEntropyLoss(ignore_index = trg_pad_token_id),\n",
        "            CLIP=1,\n",
        "            N_EPOCHS=10,\n",
        "            train_dataloader=train_dataloader,\n",
        "            val_dataloader=val_dataloader,\n",
        "            file_name='baseline.pt')"
      ]
    },
    {
      "cell_type": "code",
      "execution_count": 13,
      "metadata": {},
      "outputs": [
        {
          "data": {
            "text/plain": [
              "Seq2Seq(\n",
              "  (encoder): Encoder(\n",
              "    (embedding): Embedding(10000, 256)\n",
              "    (rnn): LSTM(256, 512, num_layers=2, dropout=0.5)\n",
              "    (dropout): Dropout(p=0.5, inplace=False)\n",
              "  )\n",
              "  (decoder): Decoder(\n",
              "    (embedding): Embedding(10000, 256)\n",
              "    (rnn): LSTM(256, 512, num_layers=2, dropout=0.5)\n",
              "    (out): Linear(in_features=512, out_features=10000, bias=True)\n",
              "    (dropout): Dropout(p=0.5, inplace=False)\n",
              "  )\n",
              ")"
            ]
          },
          "execution_count": 13,
          "metadata": {},
          "output_type": "execute_result"
        }
      ],
      "source": [
        "model.load_state_dict(torch.load('baseline.pt'))\n",
        "model.eval()"
      ]
    },
    {
      "cell_type": "code",
      "execution_count": 17,
      "metadata": {},
      "outputs": [
        {
          "name": "stdout",
          "output_type": "stream",
          "text": [
            "src: 'all apartments have a dvd player and satellite tv, a kitchen with a microwave, and a washing machine and a tumble dryer.'\n",
            "trg: 'все они оснащены телевизором со спутниковыми каналами и dvd-плеером, а также располагают кухней с микроволновой печью и стиральной/сушильной машиной.'\n",
            "pred: 'вково апартаментах есть кондиционер, телевизор, спутниковыми каналами, dvd - кухня с микроволновой печью, холодильником и электрическим как.'\n",
            "\n",
            "src: 'they are fitted with blackout curtains, free drinking water and free toiletries.'\n",
            "trg: 'гостям предоставляется бесплатная питьевая вода и бесплатные туалетно-косметическими принадлежности.'\n",
            "pred: 'в числе удобств номеров,,,,, и бесплатный wi - fi и'\n",
            "\n",
            "src: 'a small refrigerator, coffee-making facilities and a work desk are included.'\n",
            "trg: 'к услугам гостей также небольшой холодильник, принадлежности для кофе и рабочий стол.'\n",
            "pred: 'в некоторых номерах есть комм чайни, а, а также принадлежности для чая /'\n",
            "\n",
            "src: 'only 250 metres away, paral•lel metro station offers direct links to plaça catalunya and montjuïc hill.'\n",
            "trg: 'всего в 250 метрах расположена станция метро paral•lel, откуда можно без пересадок добраться до площади каталонии и горы монжуик.'\n",
            "pred: 'отель находится в в метрах от коф постельное «, и в и и в и и и и и и, и и и.'\n",
            "\n",
            "src: 'the apartment will provide you with a satellite tv and air conditioning.there is a full a kitchen with a dishwasher and a refrigerator.'\n",
            "trg: 'апартаменты оснащены кондиционером и спутниковым телевидением. полноценная кухня оборудована посудомоечной машиной и холодильником.'\n",
            "pred: 'апартаменты располагают телевизором с кабельными каналами, dvd - плеером, а также полностью ут кухней'\n",
            "\n"
          ]
        }
      ],
      "source": [
        "translation_examples(model)"
      ]
    },
    {
      "cell_type": "markdown",
      "metadata": {},
      "source": [
        "## Returning to default tokenization..."
      ]
    },
    {
      "cell_type": "code",
      "execution_count": null,
      "metadata": {},
      "outputs": [],
      "source": []
    },
    {
      "cell_type": "markdown",
      "metadata": {},
      "source": [
        "## Attention"
      ]
    },
    {
      "cell_type": "code",
      "execution_count": 11,
      "metadata": {},
      "outputs": [],
      "source": [
        "class Encoder(nn.Module):\n",
        "    def __init__(self, input_dim, emb_dim, hid_dim, n_layers, dropout):\n",
        "        super().__init__()\n",
        "\n",
        "        self.input_dim = input_dim\n",
        "        self.emb_dim = emb_dim\n",
        "        self.hid_dim = hid_dim\n",
        "        self.n_layers = n_layers\n",
        "        self.dropout = dropout\n",
        "\n",
        "        self.embedding = nn.Embedding(input_dim, emb_dim)\n",
        "\n",
        "        self.rnn = nn.LSTM(\n",
        "            input_size=emb_dim,\n",
        "            hidden_size=hid_dim,\n",
        "            num_layers=n_layers,\n",
        "            dropout=dropout\n",
        "        )\n",
        "        \n",
        "        self.dropout = nn.Dropout(p=dropout)\n",
        "        \n",
        "    def forward(self, src):        \n",
        "        embedded = self.dropout(self.embedding(src))        \n",
        "        output, (hidden, cell) = self.rnn(embedded)\n",
        "        return hidden, cell\n",
        "\n",
        "    def forward(self, src):\n",
        "        embedded = self.embedding(src)\n",
        "        embedded = self.dropout(embedded)\n",
        "        outputs, hidden = self.rnn(embedded)\n",
        "        return outputs, hidden, cell\n",
        "\n",
        "\n",
        "class DecoderWithAttention(nn.Module):\n",
        "    def __init__(self, output_dim, emb_dim, hid_dim, n_layers, dropout):\n",
        "        super().__init__()\n",
        "\n",
        "        self.emb_dim = emb_dim\n",
        "        self.hid_dim = hid_dim\n",
        "        self.output_dim = output_dim\n",
        "        self.n_layers = n_layers\n",
        "        self.dropout = dropout\n",
        "\n",
        "        self.attention = torchnlp.nn.Attention(hid_dim)\n",
        "        self.embedding = nn.Embedding(output_dim, emb_dim)\n",
        "        self.dropout = nn.Dropout(dropout)\n",
        "        self.rnn = nn.GRU(emb_dim + hid_dim, hid_dim, n_layers, dropout=dropout)\n",
        "        self.out = nn.Linear(hid_dim, output_dim)\n",
        "\n",
        "    def forward(self, input, encoder_outputs, hidden):\n",
        "        input = input.unsqueeze(dim=0)\n",
        "        embedded = self.dropout(self.embedding(input))\n",
        "\n",
        "        context, _ = self.attention(hidden[-1].unsqueeze(1), encoder_outputs.swapaxes(0, 1))\n",
        "        context = context.swapaxes(0, 1)\n",
        "\n",
        "        rnn_input = torch.cat((embedded, context), dim=-1)\n",
        "        output, hidden = self.rnn(rnn_input, hidden)\n",
        "        pred = self.out(output.squeeze(dim=0))\n",
        "        return pred, hidden\n",
        "      \n",
        "\n",
        "\n",
        "class Seq2Seq(nn.Module):\n",
        "    def __init__(self, encoder, decoder, device):\n",
        "        super().__init__()\n",
        "\n",
        "        self.encoder = encoder\n",
        "        self.decoder = decoder\n",
        "        self.device = device\n",
        "\n",
        "        assert encoder.hid_dim == decoder.hid_dim, \\\n",
        "            \"Hidden dimensions of encoder and decoder must be equal!\"\n",
        "        assert encoder.n_layers == decoder.n_layers, \\\n",
        "            \"Encoder and decoder must have equal number of layers!\"\n",
        "\n",
        "    def forward(self, src, trg, teacher_forcing_ratio=0.5):\n",
        "        batch_size = trg.shape[1]\n",
        "        max_len = trg.shape[0]\n",
        "        trg_vocab_size = self.decoder.output_dim\n",
        "        \n",
        "        outputs = torch.zeros(max_len, batch_size, trg_vocab_size).to(self.device)\n",
        "        \n",
        "        hidden, cell = self.encoder(src)\n",
        "        \n",
        "        input = trg[0,:]\n",
        "        for t in range(1, max_len):\n",
        "            output, hidden, cell = self.decoder(input, hidden, cell)\n",
        "            outputs[t] = output\n",
        "            teacher_force = random.random() < teacher_forcing_ratio\n",
        "            top1 = output.max(1)[1]\n",
        "            input = (trg[t] if teacher_force else top1)\n",
        "        \n",
        "        return outputs\n",
        "        trg_len, batch_size = trg.shape\n",
        "        preds = []\n",
        "        encoder_outputs, hidden = self.encoder(src)\n",
        "\n",
        "        # First input to the decoder is the <sos> token.\n",
        "        input = trg[0, :]\n",
        "        for i in range(1, trg_len):\n",
        "            pred, hidden = self.decoder(input, encoder_outputs, hidden)\n",
        "            preds.append(pred)\n",
        "            teacher_force = random.random() < teacher_forcing_ratio\n",
        "            _, top_pred = pred.max(dim=1)\n",
        "            input = trg[i, :] if teacher_force else top_pred\n",
        "\n",
        "        return torch.stack(preds)"
      ]
    },
    {
      "cell_type": "code",
      "execution_count": 12,
      "metadata": {},
      "outputs": [
        {
          "name": "stdout",
          "output_type": "stream",
          "text": [
            "The model has 6,973,200 trainable parameters\n"
          ]
        }
      ],
      "source": [
        "ENC_EMB_DIM = 128\n",
        "DEC_EMB_DIM = 128\n",
        "HID_DIM = 256\n",
        "N_LAYERS = 2\n",
        "ENC_DROPOUT = 0.5\n",
        "DEC_DROPOUT = 0.5\n",
        "\n",
        "enc = my_network.Encoder(src_tokenizer.get_vocab_size(), ENC_EMB_DIM, HID_DIM, N_LAYERS, ENC_DROPOUT)\n",
        "dec = my_network.Decoder(trg_tokenizer.get_vocab_size(), DEC_EMB_DIM, HID_DIM, N_LAYERS, DEC_DROPOUT)\n",
        "\n",
        "\n",
        "model = my_network.Seq2Seq(enc, dec, device).to(device)\n",
        "\n",
        "model.apply(init_weights)\n",
        "\n",
        "\n",
        "print(f'The model has {count_parameters(model):,} trainable parameters')"
      ]
    },
    {
      "cell_type": "code",
      "execution_count": 14,
      "metadata": {},
      "outputs": [
        {
          "name": "stdout",
          "output_type": "stream",
          "text": [
            "Epoch: 01 | Time: 2m 59s\n",
            "\tTrain Loss: 5.339 | Train PPL: 208.262\n",
            "\t Val. Loss: 6.146 |  Val. PPL: 467.075\n",
            "Epoch: 02 | Time: 2m 58s\n",
            "\tTrain Loss: 4.881 | Train PPL: 131.769\n",
            "\t Val. Loss: 6.088 |  Val. PPL: 440.601\n",
            "Epoch: 03 | Time: 2m 57s\n",
            "\tTrain Loss: 4.595 | Train PPL:  98.948\n",
            "\t Val. Loss: 6.005 |  Val. PPL: 405.426\n",
            "Epoch: 04 | Time: 2m 59s\n",
            "\tTrain Loss: 4.361 | Train PPL:  78.307\n",
            "\t Val. Loss: 5.935 |  Val. PPL: 377.878\n",
            "Epoch: 05 | Time: 2m 58s\n",
            "\tTrain Loss: 4.230 | Train PPL:  68.688\n",
            "\t Val. Loss: 5.951 |  Val. PPL: 384.246\n",
            "Epoch: 06 | Time: 2m 59s\n",
            "\tTrain Loss: 4.107 | Train PPL:  60.743\n",
            "\t Val. Loss: 5.875 |  Val. PPL: 355.967\n",
            "Epoch: 07 | Time: 2m 58s\n",
            "\tTrain Loss: 4.015 | Train PPL:  55.402\n",
            "\t Val. Loss: 5.860 |  Val. PPL: 350.734\n",
            "Epoch: 08 | Time: 2m 57s\n",
            "\tTrain Loss: 3.927 | Train PPL:  50.756\n",
            "\t Val. Loss: 5.754 |  Val. PPL: 315.314\n",
            "Epoch: 09 | Time: 3m 0s\n",
            "\tTrain Loss: 3.850 | Train PPL:  46.992\n",
            "\t Val. Loss: 5.833 |  Val. PPL: 341.304\n",
            "Epoch: 10 | Time: 2m 56s\n",
            "\tTrain Loss: 3.782 | Train PPL:  43.905\n",
            "\t Val. Loss: 5.789 |  Val. PPL: 326.827\n",
            "Epoch: 11 | Time: 2m 57s\n",
            "\tTrain Loss: 3.740 | Train PPL:  42.109\n",
            "\t Val. Loss: 5.770 |  Val. PPL: 320.648\n",
            "Epoch: 12 | Time: 3m 0s\n",
            "\tTrain Loss: 3.680 | Train PPL:  39.666\n",
            "\t Val. Loss: 5.794 |  Val. PPL: 328.428\n",
            "Epoch: 13 | Time: 3m 4s\n",
            "\tTrain Loss: 3.611 | Train PPL:  37.010\n",
            "\t Val. Loss: 5.736 |  Val. PPL: 309.678\n",
            "Epoch: 14 | Time: 3m 2s\n",
            "\tTrain Loss: 3.578 | Train PPL:  35.810\n",
            "\t Val. Loss: 5.794 |  Val. PPL: 328.212\n",
            "Epoch: 15 | Time: 3m 4s\n",
            "\tTrain Loss: 3.531 | Train PPL:  34.166\n",
            "\t Val. Loss: 5.740 |  Val. PPL: 311.052\n"
          ]
        },
        {
          "data": {
            "image/png": "[encoded data removed]",
            "text/plain": [
              "<Figure size 1200x800 with 2 Axes>"
            ]
          },
          "metadata": {},
          "output_type": "display_data"
        },
        {
          "name": "stdout",
          "output_type": "stream",
          "text": [
            "Total time: 44m 56s\n"
          ]
        }
      ],
      "source": [
        "train_model(model,\n",
        "            optimizer=optim.Adam(model.parameters()),\n",
        "            criterion=nn.CrossEntropyLoss(ignore_index=trg_tokenizer.token_to_id('<pad>')),\n",
        "            CLIP=1,\n",
        "            N_EPOCHS=15,\n",
        "            train_dataloader=train_dataloader,\n",
        "            val_dataloader=val_dataloader,\n",
        "            file_name='attention.pt')"
      ]
    },
    {
      "cell_type": "code",
      "execution_count": 21,
      "metadata": {},
      "outputs": [
        {
          "name": "stdout",
          "output_type": "stream",
          "text": [
            "25.23526642496823\n"
          ]
        }
      ],
      "source": [
        "bleu_score(model)"
      ]
    },
    {
      "cell_type": "markdown",
      "metadata": {},
      "source": [
        "## Transformer"
      ]
    },
    {
      "cell_type": "code",
      "execution_count": 18,
      "metadata": {},
      "outputs": [],
      "source": [
        "class PositionalEncoding(nn.Module):\n",
        "    def __init__(self, emb_size, dropout, maxlen=5000):\n",
        "        super().__init__()\n",
        "        den = torch.exp(- torch.arange(0, emb_size, 2) * math.log(10000) / emb_size)\n",
        "        pos = torch.arange(0, maxlen).reshape(maxlen, 1)\n",
        "        pos_embedding = torch.zeros((maxlen, emb_size))\n",
        "        pos_embedding[:, 0::2] = torch.sin(pos * den)\n",
        "        pos_embedding[:, 1::2] = torch.cos(pos * den)\n",
        "        pos_embedding = pos_embedding.unsqueeze(-2)\n",
        "\n",
        "        self.dropout = nn.Dropout(dropout)\n",
        "        self.register_buffer('pos_embedding', pos_embedding)\n",
        "\n",
        "    def forward(self, token_embedding):\n",
        "        return self.dropout(token_embedding + self.pos_embedding[:token_embedding.size(0), :])\n",
        "\n",
        "\n",
        "class TokenEmbedding(nn.Module):\n",
        "    def __init__(self, vocab_size, emb_size):\n",
        "        super().__init__()\n",
        "        self.embedding = nn.Embedding(vocab_size, emb_size)\n",
        "        self.emb_size = emb_size\n",
        "\n",
        "    def forward(self, tokens):\n",
        "        return self.embedding(tokens.long()) * math.sqrt(self.emb_size)\n",
        "\n",
        "\n",
        "class Seq2SeqTransformer(nn.Module):\n",
        "    def __init__(self, num_encoder_layers, num_decoder_layers, emb_size, nhead, src_vocab_size, trg_vocab_size, dim_feedforward = 512, dropout=0.1):\n",
        "        super().__init__()\n",
        "        self.transformer = nn.Transformer(d_model=emb_size,\n",
        "                                          nhead=nhead,\n",
        "                                          num_encoder_layers=num_encoder_layers,\n",
        "                                          num_decoder_layers=num_decoder_layers,\n",
        "                                          dim_feedforward=dim_feedforward,\n",
        "                                          dropout=dropout)\n",
        "        self.generator = nn.Linear(emb_size, trg_vocab_size)\n",
        "        self.src_token_emb = TokenEmbedding(src_vocab_size, emb_size)\n",
        "        self.trg_token_emb = TokenEmbedding(trg_vocab_size, emb_size)\n",
        "        self.positional_encoding = PositionalEncoding(emb_size, dropout=dropout)\n",
        "\n",
        "    def forward(self, src, trg, src_mask=None, trg_mask=None, src_padding_mask=None, trg_padding_mask=None, memory_key_padding_mask=None):\n",
        "        src_emb = self.positional_encoding(self.src_token_emb(src))\n",
        "        trg_emb = self.positional_encoding(self.trg_token_emb(trg))\n",
        "        outs = self.transformer(src_emb, trg_emb, src_mask, trg_mask, None, src_padding_mask, trg_padding_mask, memory_key_padding_mask)\n",
        "        return self.generator(outs)\n",
        "\n",
        "    def encode(self, src, src_mask=None):\n",
        "        return self.transformer.encoder(self.positional_encoding(self.src_token_emb(src)), src_mask)\n",
        "\n",
        "    def decode(self, trg, memory, trg_mask=None):\n",
        "        return self.transformer.decoder(self.positional_encoding(self.trg_token_emb(trg)), memory, trg_mask)\n",
        "\n",
        "\n",
        "def generate_square_subsequent_mask(sz, device):\n",
        "    mask = (torch.triu(torch.ones((sz, sz), device=device)) == 1).transpose(0, 1)\n",
        "    mask = mask.float().masked_fill(mask == 0, float('-inf')).masked_fill(mask == 1, float(0.0))\n",
        "    return mask\n",
        "\n",
        "def create_mask(src, trg, device):\n",
        "    src_seq_len = src.shape[0]\n",
        "    trg_seq_len = trg.shape[0]\n",
        "\n",
        "    trg_mask = generate_square_subsequent_mask(trg_seq_len, device)\n",
        "    src_mask = torch.zeros((src_seq_len, src_seq_len), device=device).type(torch.bool)\n",
        "\n",
        "    src_padding_mask = (src == src_tokenizer.token_to_id('<pad>')).transpose(0, 1)\n",
        "    trg_padding_mask = (trg == trg_tokenizer.token_to_id('<pad>')).transpose(0, 1)\n",
        "    return src_mask, trg_mask, src_padding_mask, trg_padding_mask"
      ]
    },
    {
      "cell_type": "code",
      "execution_count": 19,
      "metadata": {},
      "outputs": [
        {
          "name": "stdout",
          "output_type": "stream",
          "text": [
            "The model has 9,801,488 trainable parameters\n"
          ]
        },
        {
          "name": "stderr",
          "output_type": "stream",
          "text": [
            "/home/semyon/.local/lib/python3.10/site-packages/torch/nn/modules/transformer.py:286: UserWarning: enable_nested_tensor is True, but self.use_nested_tensor is False because encoder_layer.self_attn.batch_first was not True(use batch_first for better inference performance)\n",
            "  warnings.warn(f\"enable_nested_tensor is True, but self.use_nested_tensor is False because {why_not_sparsity_fast_path}\")\n"
          ]
        }
      ],
      "source": [
        "model = Seq2SeqTransformer(2, 2, 256, 4, src_tokenizer.get_vocab_size(), trg_tokenizer.get_vocab_size(), 256).to(device)\n",
        "model.apply(init_weights)\n",
        "print(f\"The model has {count_parameters(model):,} trainable parameters\")"
      ]
    },
    {
      "cell_type": "code",
      "execution_count": null,
      "metadata": {},
      "outputs": [],
      "source": [
        "train_model(model,\n",
        "            optimizer=optim.Adam(model.parameters()),\n",
        "            criterion=nn.CrossEntropyLoss(ignore_index=trg_tokenizer.token_to_id('<pad>')),\n",
        "            CLIP=1,\n",
        "            N_EPOCHS=10,\n",
        "            train_dataloader=train_dataloader,\n",
        "            val_dataloader=val_dataloader,\n",
        "            file_name='transformer.pt')"
      ]
    },
    {
      "cell_type": "markdown",
      "metadata": {},
      "source": [
        "Both tokenization and attention provide quite a significant increase in translation quality"
      ]
    }
  ],
  "metadata": {
    "accelerator": "GPU",
    "anaconda-cloud": {},
    "colab": {
      "gpuType": "T4",
      "provenance": []
    },
    "kernelspec": {
      "display_name": "Python 3",
      "name": "python3"
    },
    "language_info": {
      "codemirror_mode": {
        "name": "ipython",
        "version": 3
      },
      "file_extension": ".py",
      "mimetype": "text/x-python",
      "name": "python",
      "nbconvert_exporter": "python",
      "pygments_lexer": "ipython3",
      "version": "3.10.12"
    }
  },
  "nbformat": 4,
  "nbformat_minor": 0
}
